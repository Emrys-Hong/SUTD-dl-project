{
 "cells": [
  {
   "cell_type": "markdown",
   "metadata": {},
   "source": [
    "# Indiana University Chest X-Rays\n",
    "\n",
    "**Dataset Information**\n",
    "\n",
    "* Open access chest X-ray collection from Indiana University\n",
    "* Original source: https://openi.nlm.nih.gov/\n",
    "* Original images were downloaded in raw [DICOM](https://en.wikipedia.org/wiki/DICOM) standard. Each image was converted to png using some post-processing:\n",
    "* top/bottom 0.5% DICOM pixel values were clipped (to eliminate very dark or very bright pixel outliers)\n",
    "* DICOM pixel values scaled linearly to fit into 0-255 range\n",
    "* resized to 2048 on shorter side (to fit in Kaggle dataset limits)\n",
    "* Metadata downloaded using available API (https://openi.nlm.nih.gov/services#searchAPIUsingGET)\n",
    "* Each image classified manually into frontal and lateral chest X-ray categories."
   ]
  },
  {
   "cell_type": "code",
   "execution_count": 1,
   "metadata": {},
   "outputs": [],
   "source": [
    "import pandas as pd"
   ]
  },
  {
   "cell_type": "code",
   "execution_count": 2,
   "metadata": {},
   "outputs": [
    {
     "data": {
      "text/html": [
       "<div>\n",
       "<style scoped>\n",
       "    .dataframe tbody tr th:only-of-type {\n",
       "        vertical-align: middle;\n",
       "    }\n",
       "\n",
       "    .dataframe tbody tr th {\n",
       "        vertical-align: top;\n",
       "    }\n",
       "\n",
       "    .dataframe thead th {\n",
       "        text-align: right;\n",
       "    }\n",
       "</style>\n",
       "<table border=\"1\" class=\"dataframe\">\n",
       "  <thead>\n",
       "    <tr style=\"text-align: right;\">\n",
       "      <th></th>\n",
       "      <th>uid</th>\n",
       "      <th>MeSH</th>\n",
       "      <th>Problems</th>\n",
       "      <th>image</th>\n",
       "      <th>indication</th>\n",
       "      <th>comparison</th>\n",
       "      <th>findings</th>\n",
       "      <th>impression</th>\n",
       "    </tr>\n",
       "  </thead>\n",
       "  <tbody>\n",
       "    <tr>\n",
       "      <th>0</th>\n",
       "      <td>1</td>\n",
       "      <td>normal</td>\n",
       "      <td>normal</td>\n",
       "      <td>Xray Chest PA and Lateral</td>\n",
       "      <td>Positive TB test</td>\n",
       "      <td>None.</td>\n",
       "      <td>The cardiac silhouette and mediastinum size ar...</td>\n",
       "      <td>Normal chest x-XXXX.</td>\n",
       "    </tr>\n",
       "    <tr>\n",
       "      <th>1</th>\n",
       "      <td>2</td>\n",
       "      <td>Cardiomegaly/borderline;Pulmonary Artery/enlarged</td>\n",
       "      <td>Cardiomegaly;Pulmonary Artery</td>\n",
       "      <td>Chest, 2 views, frontal and lateral</td>\n",
       "      <td>Preop bariatric surgery.</td>\n",
       "      <td>None.</td>\n",
       "      <td>Borderline cardiomegaly. Midline sternotomy XX...</td>\n",
       "      <td>No acute pulmonary findings.</td>\n",
       "    </tr>\n",
       "    <tr>\n",
       "      <th>2</th>\n",
       "      <td>3</td>\n",
       "      <td>normal</td>\n",
       "      <td>normal</td>\n",
       "      <td>Xray Chest PA and Lateral</td>\n",
       "      <td>rib pain after a XXXX, XXXX XXXX steps this XX...</td>\n",
       "      <td>NaN</td>\n",
       "      <td>NaN</td>\n",
       "      <td>No displaced rib fractures, pneumothorax, or p...</td>\n",
       "    </tr>\n",
       "    <tr>\n",
       "      <th>3</th>\n",
       "      <td>4</td>\n",
       "      <td>Pulmonary Disease, Chronic Obstructive;Bullous...</td>\n",
       "      <td>Pulmonary Disease, Chronic Obstructive;Bullous...</td>\n",
       "      <td>PA and lateral views of the chest XXXX, XXXX a...</td>\n",
       "      <td>XXXX-year-old XXXX with XXXX.</td>\n",
       "      <td>None available</td>\n",
       "      <td>There are diffuse bilateral interstitial and a...</td>\n",
       "      <td>1. Bullous emphysema and interstitial fibrosis...</td>\n",
       "    </tr>\n",
       "    <tr>\n",
       "      <th>4</th>\n",
       "      <td>5</td>\n",
       "      <td>Osteophyte/thoracic vertebrae/multiple/small;T...</td>\n",
       "      <td>Osteophyte;Thickening;Lung</td>\n",
       "      <td>Xray Chest PA and Lateral</td>\n",
       "      <td>Chest and nasal congestion.</td>\n",
       "      <td>NaN</td>\n",
       "      <td>The cardiomediastinal silhouette and pulmonary...</td>\n",
       "      <td>No acute cardiopulmonary abnormality.</td>\n",
       "    </tr>\n",
       "  </tbody>\n",
       "</table>\n",
       "</div>"
      ],
      "text/plain": [
       "   uid                                               MeSH  \\\n",
       "0    1                                             normal   \n",
       "1    2  Cardiomegaly/borderline;Pulmonary Artery/enlarged   \n",
       "2    3                                             normal   \n",
       "3    4  Pulmonary Disease, Chronic Obstructive;Bullous...   \n",
       "4    5  Osteophyte/thoracic vertebrae/multiple/small;T...   \n",
       "\n",
       "                                            Problems  \\\n",
       "0                                             normal   \n",
       "1                      Cardiomegaly;Pulmonary Artery   \n",
       "2                                             normal   \n",
       "3  Pulmonary Disease, Chronic Obstructive;Bullous...   \n",
       "4                         Osteophyte;Thickening;Lung   \n",
       "\n",
       "                                               image  \\\n",
       "0                          Xray Chest PA and Lateral   \n",
       "1                Chest, 2 views, frontal and lateral   \n",
       "2                          Xray Chest PA and Lateral   \n",
       "3  PA and lateral views of the chest XXXX, XXXX a...   \n",
       "4                          Xray Chest PA and Lateral   \n",
       "\n",
       "                                          indication      comparison  \\\n",
       "0                                   Positive TB test           None.   \n",
       "1                           Preop bariatric surgery.           None.   \n",
       "2  rib pain after a XXXX, XXXX XXXX steps this XX...             NaN   \n",
       "3                      XXXX-year-old XXXX with XXXX.  None available   \n",
       "4                        Chest and nasal congestion.             NaN   \n",
       "\n",
       "                                            findings  \\\n",
       "0  The cardiac silhouette and mediastinum size ar...   \n",
       "1  Borderline cardiomegaly. Midline sternotomy XX...   \n",
       "2                                                NaN   \n",
       "3  There are diffuse bilateral interstitial and a...   \n",
       "4  The cardiomediastinal silhouette and pulmonary...   \n",
       "\n",
       "                                          impression  \n",
       "0                               Normal chest x-XXXX.  \n",
       "1                       No acute pulmonary findings.  \n",
       "2  No displaced rib fractures, pneumothorax, or p...  \n",
       "3  1. Bullous emphysema and interstitial fibrosis...  \n",
       "4              No acute cardiopulmonary abnormality.  "
      ]
     },
     "execution_count": 2,
     "metadata": {},
     "output_type": "execute_result"
    }
   ],
   "source": [
    "df = pd.read_csv(\"./indiana_reports.csv\")\n",
    "df.head()"
   ]
  },
  {
   "cell_type": "markdown",
   "metadata": {},
   "source": [
    "**Columns**\n",
    "\n",
    "* `MeSH`: Medical Subject Headings, standardised medical vocab ([more info](https://www.nlm.nih.gov/bsd/disted/meshtutorial/introduction/02.html))\n",
    "* `Problems`: medical conditions\n",
    "* `image`: types of chest X-Ray (frontal/lateral) available\n",
    "* `indication`: \"a condition which makes a particular treatment or procedure advisable\" ([source](https://www.medicinenet.com/script/main/art.asp?articlekey=32545))\n",
    "* `findings`: observations regarding each part of the chest examined. Generally a paragraph with 4+ sentences\n",
    "* `impression`: generally a one-sentence diagnostic based on findings reported. Can contain multiple sentences"
   ]
  },
  {
   "cell_type": "code",
   "execution_count": 3,
   "metadata": {},
   "outputs": [
    {
     "name": "stdout",
     "output_type": "stream",
     "text": [
      "Number of categories: 48\n"
     ]
    }
   ],
   "source": [
    "import collections\n",
    "\n",
    "set_to_other = [\n",
    "    'pulmonary artery', 'bullous emphysema', 'pulmonary fibrosis', 'breast implants', 'lung, hyperlucent', 'sutures', 'tube, inserted', 'lung diseases, interstitial', 'volume loss', 'stents', 'bone and bones', 'mass', 'pneumothorax', 'osteoporosis', 'heart failure', 'shift', 'foreign bodies', 'shoulder', 'dislocations', 'mediastinum', 'spinal fusion', 'expansile bone lesions', 'lumbar vertebrae', 'subcutaneous emphysema', 'medical device', 'sclerosis', 'cysts', 'lucency', 'funnel chest', 'epicardial fat', 'blister', 'heart', 'bronchiectasis', 'mastectomy', 'pneumoperitoneum', 'aortic aneurysm', 'cervical vertebrae', 'heart atria', 'adipose tissue', 'trachea', 'sulcus', 'hypertension, pulmonary', 'cystic fibrosis', 'humerus', 'nipple shadow', 'hydropneumothorax', 'pectus carinatum', 'fibrosis', 'tuberculosis', 'sarcoidosis', 'colonic interposition', 'cholelithiasis', 'ribs', 'hernia, diaphragmatic', 'pleura', 'hyperostosis, diffuse idiopathic skeletal', 'heart ventricles', 'pneumonectomy', 'pericardial effusion', 'trachea, carina', 'bronchitis', 'thorax', 'contrast media', 'hypovolemia', 'abdomen', 'lymph nodes', 'cavitation', 'subcutaneous  emphysema', 'hemopneumothorax', 'bronchiolitis', 'blood vessels', 'hemothorax'\n",
    "]\n",
    "\n",
    "def parse_problem(line):\n",
    "    line = list(set(line.lower().split(\";\")))\n",
    "    return line\n",
    "\n",
    "raw_problems = list(df[\"Problems\"])\n",
    "problems = []\n",
    "problems_flat = []\n",
    "counts = collections.defaultdict(int)\n",
    "\n",
    "for line in raw_problems:\n",
    "    line = parse_problem(line)\n",
    "    clean_line = []\n",
    "    for p in line:\n",
    "        counts[p] += 1\n",
    "        if p not in set_to_other:\n",
    "            clean_line.append(p)\n",
    "        else:\n",
    "            clean_line.append(\"other\")\n",
    "    clean_line = list(set(clean_line))\n",
    "    problems.append(clean_line)\n",
    "    problems_flat += clean_line\n",
    "\n",
    "categories = list(set(problems_flat))\n",
    "categories.sort()\n",
    "print(\"Number of categories:\", len(categories))"
   ]
  },
  {
   "cell_type": "code",
   "execution_count": 10,
   "metadata": {},
   "outputs": [
    {
     "name": "stdout",
     "output_type": "stream",
     "text": [
      "['airspace disease', 'aorta', 'aorta, thoracic', 'arthritis', 'atherosclerosis', 'bone diseases, metabolic', 'calcified granuloma', 'calcinosis', 'cardiac shadow', 'cardiomegaly', 'catheters, indwelling', 'cicatrix', 'consolidation', 'costophrenic angle', 'deformity', 'density', 'diaphragm', 'diaphragmatic eventration', 'emphysema', 'fractures, bone', 'granuloma', 'granulomatous disease', 'hernia, hiatal', 'implanted medical device', 'infiltrate', 'kyphosis', 'lung', 'markings', 'no indexing', 'nodule', 'normal', 'opacity', 'osteophyte', 'other', 'pleural effusion', 'pneumonia', 'pulmonary atelectasis', 'pulmonary congestion', 'pulmonary disease, chronic obstructive', 'pulmonary edema', 'pulmonary emphysema', 'scoliosis', 'spine', 'spondylosis', 'surgical instruments', 'technical quality of image unsatisfactory ', 'thickening', 'thoracic vertebrae']\n"
     ]
    }
   ],
   "source": [
    "print(categories)"
   ]
  },
  {
   "cell_type": "code",
   "execution_count": 4,
   "metadata": {},
   "outputs": [
    {
     "data": {
      "text/plain": [
       "'\\n# convert cases < 30 examples to \"other\" class\\nset_to_other = []\\nfor p in counts.keys():\\n    count = counts[p]\\n    if count < 30:\\n        set_to_other.append(p)\\nprint(set_to_other)\\n'"
      ]
     },
     "execution_count": 4,
     "metadata": {},
     "output_type": "execute_result"
    }
   ],
   "source": [
    "\"\"\"\n",
    "# convert cases < 30 examples to \"other\" class\n",
    "set_to_other = []\n",
    "for p in counts.keys():\n",
    "    count = counts[p]\n",
    "    if count < 30:\n",
    "        set_to_other.append(p)\n",
    "print(set_to_other)\n",
    "\"\"\""
   ]
  },
  {
   "cell_type": "code",
   "execution_count": 5,
   "metadata": {},
   "outputs": [],
   "source": [
    "from matplotlib import pyplot as plt\n",
    "import seaborn as sns"
   ]
  },
  {
   "cell_type": "code",
   "execution_count": 6,
   "metadata": {},
   "outputs": [
    {
     "data": {
      "image/png": "[encoded data removed]",
      "text/plain": [
       "<Figure size 1584x576 with 1 Axes>"
      ]
     },
     "metadata": {
      "needs_background": "light"
     },
     "output_type": "display_data"
    }
   ],
   "source": [
    "plt.figure(figsize=(22,8))\n",
    "plt.title(\"Problems\")\n",
    "sns.countplot(problems_flat)\n",
    "plt.xticks(rotation=90)\n",
    "plt.axhline(30, linewidth=1, linestyle=\"--\", label=\"10 cases\")\n",
    "plt.legend()\n",
    "plt.show()"
   ]
  },
  {
   "cell_type": "code",
   "execution_count": 7,
   "metadata": {},
   "outputs": [
    {
     "data": {
      "text/html": [
       "<div>\n",
       "<style scoped>\n",
       "    .dataframe tbody tr th:only-of-type {\n",
       "        vertical-align: middle;\n",
       "    }\n",
       "\n",
       "    .dataframe tbody tr th {\n",
       "        vertical-align: top;\n",
       "    }\n",
       "\n",
       "    .dataframe thead th {\n",
       "        text-align: right;\n",
       "    }\n",
       "</style>\n",
       "<table border=\"1\" class=\"dataframe\">\n",
       "  <thead>\n",
       "    <tr style=\"text-align: right;\">\n",
       "      <th></th>\n",
       "      <th>uid</th>\n",
       "      <th>problems</th>\n",
       "      <th>findings</th>\n",
       "      <th>impression</th>\n",
       "    </tr>\n",
       "  </thead>\n",
       "  <tbody>\n",
       "    <tr>\n",
       "      <th>0</th>\n",
       "      <td>1</td>\n",
       "      <td>[normal]</td>\n",
       "      <td>The cardiac silhouette and mediastinum size ar...</td>\n",
       "      <td>Normal chest x-XXXX.</td>\n",
       "    </tr>\n",
       "    <tr>\n",
       "      <th>1</th>\n",
       "      <td>2</td>\n",
       "      <td>[cardiomegaly, other]</td>\n",
       "      <td>Borderline cardiomegaly. Midline sternotomy XX...</td>\n",
       "      <td>No acute pulmonary findings.</td>\n",
       "    </tr>\n",
       "    <tr>\n",
       "      <th>2</th>\n",
       "      <td>3</td>\n",
       "      <td>[normal]</td>\n",
       "      <td>No findings.</td>\n",
       "      <td>No displaced rib fractures, pneumothorax, or p...</td>\n",
       "    </tr>\n",
       "    <tr>\n",
       "      <th>3</th>\n",
       "      <td>4</td>\n",
       "      <td>[other, opacity, cicatrix, pulmonary disease, ...</td>\n",
       "      <td>There are diffuse bilateral interstitial and a...</td>\n",
       "      <td>1. Bullous emphysema and interstitial fibrosis...</td>\n",
       "    </tr>\n",
       "    <tr>\n",
       "      <th>4</th>\n",
       "      <td>5</td>\n",
       "      <td>[lung, osteophyte, thickening]</td>\n",
       "      <td>The cardiomediastinal silhouette and pulmonary...</td>\n",
       "      <td>No acute cardiopulmonary abnormality.</td>\n",
       "    </tr>\n",
       "  </tbody>\n",
       "</table>\n",
       "</div>"
      ],
      "text/plain": [
       "   uid                                           problems  \\\n",
       "0    1                                           [normal]   \n",
       "1    2                              [cardiomegaly, other]   \n",
       "2    3                                           [normal]   \n",
       "3    4  [other, opacity, cicatrix, pulmonary disease, ...   \n",
       "4    5                     [lung, osteophyte, thickening]   \n",
       "\n",
       "                                            findings  \\\n",
       "0  The cardiac silhouette and mediastinum size ar...   \n",
       "1  Borderline cardiomegaly. Midline sternotomy XX...   \n",
       "2                                       No findings.   \n",
       "3  There are diffuse bilateral interstitial and a...   \n",
       "4  The cardiomediastinal silhouette and pulmonary...   \n",
       "\n",
       "                                          impression  \n",
       "0                               Normal chest x-XXXX.  \n",
       "1                       No acute pulmonary findings.  \n",
       "2  No displaced rib fractures, pneumothorax, or p...  \n",
       "3  1. Bullous emphysema and interstitial fibrosis...  \n",
       "4              No acute cardiopulmonary abnormality.  "
      ]
     },
     "execution_count": 7,
     "metadata": {},
     "output_type": "execute_result"
    }
   ],
   "source": [
    "drop_col = [\"MeSH\", \"Problems\", \"image\", \"indication\", \"comparison\"]\n",
    "df_new = df.drop(drop_col, axis = 1)\n",
    "df_new.insert(1, \"problems\", problems)\n",
    "df_new.fillna(\"No findings.\", inplace=True)\n",
    "df_new.head()"
   ]
  },
  {
   "cell_type": "code",
   "execution_count": 8,
   "metadata": {},
   "outputs": [],
   "source": [
    "df_new.to_csv(\"./cleaned_reports.csv\")"
   ]
  },
  {
   "cell_type": "code",
   "execution_count": null,
   "metadata": {},
   "outputs": [],
   "source": []
  }
 ],
 "metadata": {
  "kernelspec": {
   "display_name": "Python 3",
   "language": "python",
   "name": "python3"
  },
  "language_info": {
   "codemirror_mode": {
    "name": "ipython",
    "version": 3
   },
   "file_extension": ".py",
   "mimetype": "text/x-python",
   "name": "python",
   "nbconvert_exporter": "python",
   "pygments_lexer": "ipython3",
   "version": "3.6.10"
  }
 },
 "nbformat": 4,
 "nbformat_minor": 4
}
