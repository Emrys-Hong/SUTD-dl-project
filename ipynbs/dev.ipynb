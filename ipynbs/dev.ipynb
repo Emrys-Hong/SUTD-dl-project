{
 "cells": [
  {
   "cell_type": "code",
   "execution_count": 1,
   "metadata": {},
   "outputs": [],
   "source": [
    "import os; os.chdir('..')\n",
    "import numpy as np\n",
    "import torch\n",
    "from torchvision import transforms\n",
    "import apex\n",
    "import csv\n",
    "import data\n",
    "import models\n",
    "import ast\n",
    "from sklearn.model_selection import train_test_split\n",
    "from tqdm.notebook import tqdm, trange\n",
    "from nltk.translate.bleu_score import sentence_bleu\n",
    "from evaluate import get_class_predictions\n",
    "from evaluate import evaluate_encoder_predictions"
   ]
  },
  {
   "cell_type": "markdown",
   "metadata": {},
   "source": [
    "### Data Loading"
   ]
  },
  {
   "cell_type": "code",
   "execution_count": 2,
   "metadata": {},
   "outputs": [],
   "source": [
    "batch_size = 5\n",
    "\n",
    "def parse_list(input_str):    \n",
    "    return ast.literal_eval(input_str)\n",
    "\n",
    "reports = {}\n",
    "\n",
    "with open(\"./xray-dataset/cleaned_reports.csv\") as csv_file:\n",
    "    csv_reader = csv.reader(csv_file, delimiter=',')\n",
    "    line_count = 0\n",
    "    for row in csv_reader:\n",
    "        if line_count == 0:\n",
    "            line_count += 1\n",
    "        else:\n",
    "            uid, problems, findings, impression = row[1:]\n",
    "            reports[str(uid)] = (parse_list(problems), findings, impression)\n",
    "\n",
    "def create_report_splits(reports, seed=1337):\n",
    "    uid_list = list(reports.keys())\n",
    "    train_uids, valtest_uids = train_test_split(uid_list, test_size=0.2, random_state=seed)\n",
    "    valid_uids, test_uids = train_test_split(valtest_uids, test_size=0.5, random_state=seed)\n",
    "    \n",
    "    train_reports = {}\n",
    "    valid_reports = {}\n",
    "    test_reports = {}\n",
    "    splits = [train_uids, valid_uids, test_uids]\n",
    "    output_reports = [train_reports, valid_reports, test_reports]\n",
    "    \n",
    "    for i in range(len(splits)):\n",
    "        for uid in splits[i]:\n",
    "            output_reports[i][str(uid)] = reports[str(uid)]\n",
    "            \n",
    "    return output_reports\n",
    "\n",
    "train_reports, valid_reports, _ = create_report_splits(reports)\n",
    "\n",
    "train_dataset = data.XRayDataset(\n",
    "    reports=train_reports,\n",
    "    transform=transforms.Compose([\n",
    "        transforms.Resize(2048),\n",
    "        transforms.CenterCrop((2048,2048)),\n",
    "        transforms.ToTensor(),\n",
    "        transforms.Normalize(mean=[0.485, 0.456, 0.406],\n",
    "                             std=[0.229, 0.224, 0.225]),\n",
    "    ]\n",
    "))\n",
    "train_dataloader = torch.utils.data.dataloader.DataLoader(train_dataset,\n",
    "                                                          collate_fn=data.collate_fn,\n",
    "                                                          pin_memory=True,\n",
    "                                                          shuffle=True,\n",
    "                                                          batch_size=batch_size,\n",
    "                                                          num_workers=batch_size)\n",
    "\n",
    "valid_dataset = data.XRayDataset(\n",
    "    reports=valid_reports,\n",
    "    transform=transforms.Compose([\n",
    "        transforms.Resize(2048),\n",
    "        transforms.CenterCrop((2048,2048)),\n",
    "        transforms.ToTensor(),\n",
    "        transforms.Normalize(mean=[0.485, 0.456, 0.406],\n",
    "                             std=[0.229, 0.224, 0.225]),\n",
    "        ]\n",
    "))\n",
    "valid_dataset.tokenizer = train_dataset.tokenizer\n",
    "valid_dataloader = torch.utils.data.dataloader.DataLoader(valid_dataset,\n",
    "                                                          collate_fn=data.collate_fn,\n",
    "                                                          pin_memory=True,\n",
    "                                                          shuffle=True,\n",
    "                                                          batch_size=batch_size,\n",
    "                                                          num_workers=batch_size)"
   ]
  },
  {
   "cell_type": "markdown",
   "metadata": {},
   "source": [
    "### Build Model"
   ]
  },
  {
   "cell_type": "code",
   "execution_count": 3,
   "metadata": {},
   "outputs": [
    {
     "name": "stdout",
     "output_type": "stream",
     "text": [
      "Selected optimization level O1:  Insert automatic casts around Pytorch functions and Tensor methods.\n",
      "\n",
      "Defaults for this optimization level are:\n",
      "enabled                : True\n",
      "opt_level              : O1\n",
      "cast_model_type        : None\n",
      "patch_torch_functions  : True\n",
      "keep_batchnorm_fp32    : None\n",
      "master_weights         : None\n",
      "loss_scale             : dynamic\n",
      "Processing user overrides (additional kwargs that are not None)...\n",
      "After processing overrides, optimization options are:\n",
      "enabled                : True\n",
      "opt_level              : O1\n",
      "cast_model_type        : None\n",
      "patch_torch_functions  : True\n",
      "keep_batchnorm_fp32    : None\n",
      "master_weights         : None\n",
      "loss_scale             : dynamic\n"
     ]
    }
   ],
   "source": [
    "embed_size = 128\n",
    "hidden_size = 128\n",
    "num_layers = 3\n",
    "learning_rate = 0.001\n",
    "memory_format = torch.channels_last\n",
    "num_classes = len(train_dataset.classes)\n",
    "device = torch.device(\"cuda\" if torch.cuda.is_available() else \"cpu\")\n",
    "\n",
    "encoder = models.EncoderCNN(embed_size, num_classes).to(device, memory_format=memory_format)\n",
    "decoder = models.DecoderRNN(embed_size, hidden_size, len(train_dataset.vocab), num_layers).to(device)\n",
    "\n",
    "classes_loss = torch.nn.BCEWithLogitsLoss()\n",
    "outputs_loss = torch.nn.CrossEntropyLoss()\n",
    "params = list(decoder.parameters()) + list(encoder.parameters())\n",
    "optimizer = apex.optimizers.FusedAdam(params, lr=learning_rate)\n",
    "\n",
    "[encoder, decoder], optimizer = apex.amp.initialize([encoder, decoder], optimizer, opt_level=\"O1\")"
   ]
  },
  {
   "cell_type": "markdown",
   "metadata": {},
   "source": [
    "### Train Model"
   ]
  },
  {
   "cell_type": "code",
   "execution_count": 4,
   "metadata": {},
   "outputs": [],
   "source": [
    "def train_one_epoch(dataloader, batch_size, encoder, decoder, classes_loss, outputs_loss, optimizer, train=True):\n",
    "    total_step = len(dataloader.dataset)//batch_size\n",
    "    if train:\n",
    "        encoder.train()\n",
    "        decoder.train()\n",
    "    else:\n",
    "        encoder.eval()\n",
    "        decoder.eval()\n",
    "    running_c_loss = torch.Tensor([0.0])\n",
    "    running_o_loss = torch.Tensor([0.0])\n",
    "    state_h, state_c = decoder.zero_state(batch_size)\n",
    "    state_h = state_h.cuda(non_blocking=True)\n",
    "    state_c = state_c.cuda(non_blocking=True)\n",
    "    with torch.set_grad_enabled(train):\n",
    "        for i, (images, class_labels, captions, lengths) in enumerate(tqdm(dataloader, total=total_step)):\n",
    "            images = images.cuda(non_blocking=True).contiguous(memory_format=memory_format)\n",
    "            captions = captions.cuda(non_blocking=True)\n",
    "            class_labels = class_labels.cuda(non_blocking=True)\n",
    "            targets = torch.nn.utils.rnn.pack_padded_sequence(captions, lengths, batch_first=True, enforce_sorted=False)[0]\n",
    "            encoder.zero_grad()\n",
    "            decoder.zero_grad()\n",
    "            logits, features = encoder(images)\n",
    "            c_loss = classes_loss(logits, class_labels)\n",
    "            outputs, (state_h, state_c) = decoder(features, captions, lengths, (state_h, state_c))\n",
    "            o_loss = outputs_loss(outputs, targets)\n",
    "            if train:\n",
    "                with apex.amp.scale_loss(c_loss, optimizer) as scaled_loss:\n",
    "                    scaled_loss.backward(retain_graph=True)\n",
    "                with apex.amp.scale_loss(o_loss, optimizer) as scaled_loss:\n",
    "                    scaled_loss.backward()\n",
    "                state_h = state_h.detach()\n",
    "                state_c = state_c.detach()\n",
    "                optimizer.step()\n",
    "            running_c_loss += c_loss\n",
    "            running_o_loss += o_loss\n",
    "            \n",
    "    c_loss = float(running_c_loss.item()/total_step)\n",
    "    o_loss = float(running_o_loss.item()/total_step)\n",
    "    \n",
    "    return c_loss, o_loss"
   ]
  },
  {
   "cell_type": "code",
   "execution_count": 5,
   "metadata": {},
   "outputs": [
    {
     "name": "stdout",
     "output_type": "stream",
     "text": [
      "Start training\n",
      "\n",
      "Epoch 1 / 1 :\n",
      "\n"
     ]
    },
    {
     "data": {
      "application/vnd.jupyter.widget-view+json": {
       "model_id": "c3b8ea25047d4ae0aa008bfb647ceefe",
       "version_major": 2,
       "version_minor": 0
      },
      "text/plain": [
       "HBox(children=(FloatProgress(value=0.0, max=543.0), HTML(value='')))"
      ]
     },
     "metadata": {},
     "output_type": "display_data"
    },
    {
     "name": "stdout",
     "output_type": "stream",
     "text": [
      "\n"
     ]
    },
    {
     "data": {
      "application/vnd.jupyter.widget-view+json": {
       "model_id": "5afa076d7aa54c69a374849a03824a14",
       "version_major": 2,
       "version_minor": 0
      },
      "text/plain": [
       "HBox(children=(FloatProgress(value=0.0, max=66.0), HTML(value='')))"
      ]
     },
     "metadata": {},
     "output_type": "display_data"
    },
    {
     "name": "stdout",
     "output_type": "stream",
     "text": [
      "\n",
      "Running inference...\n"
     ]
    },
    {
     "data": {
      "text/html": [
       "\n",
       "    <div>\n",
       "        <style>\n",
       "            /* Turns off some styling */\n",
       "            progress {\n",
       "                /* gets rid of default border in Firefox and Opera. */\n",
       "                border: none;\n",
       "                /* Needs to be in here for Safari polyfill so background images work as expected. */\n",
       "                background-size: auto;\n",
       "            }\n",
       "            .progress-bar-interrupted, .progress-bar-interrupted::-webkit-progress-bar {\n",
       "                background: #F44336;\n",
       "            }\n",
       "        </style>\n",
       "      <progress value='2718' class='' max='2718', style='width:300px; height:20px; vertical-align: middle;'></progress>\n",
       "      100.00% [2718/2718 04:33<00:00]\n",
       "    </div>\n",
       "    "
      ],
      "text/plain": [
       "<IPython.core.display.HTML object>"
      ]
     },
     "metadata": {},
     "output_type": "display_data"
    },
    {
     "name": "stdout",
     "output_type": "stream",
     "text": [
      "train_loss -  0.152 2.269 - perplexity - 9.667 - valid_loss -  0.145 1.405 - perplexity - 4.074\n"
     ]
    },
    {
     "name": "stderr",
     "output_type": "stream",
     "text": [
      "/opt/conda/lib/python3.6/site-packages/sklearn/metrics/_classification.py:1272: UndefinedMetricWarning: Precision is ill-defined and being set to 0.0 in labels with no predicted samples. Use `zero_division` parameter to control this behavior.\n",
      "  _warn_prf(average, modifier, msg_start, len(result))\n"
     ]
    },
    {
     "data": {
      "application/vnd.jupyter.widget-view+json": {
       "model_id": "74b1067c34e547a885ef5377c98cacb5",
       "version_major": 2,
       "version_minor": 0
      },
      "text/plain": [
       "HBox(children=(FloatProgress(value=0.0, max=2718.0), HTML(value='')))"
      ]
     },
     "metadata": {},
     "output_type": "display_data"
    },
    {
     "name": "stderr",
     "output_type": "stream",
     "text": [
      "/opt/conda/lib/python3.6/site-packages/nltk/translate/bleu_score.py:523: UserWarning: \n",
      "The hypothesis contains 0 counts of 3-gram overlaps.\n",
      "Therefore the BLEU score evaluates to 0, independently of\n",
      "how many N-gram overlaps of lower order it contains.\n",
      "Consider using lower n-gram order or use SmoothingFunction()\n",
      "  warnings.warn(_msg)\n",
      "/opt/conda/lib/python3.6/site-packages/nltk/translate/bleu_score.py:523: UserWarning: \n",
      "The hypothesis contains 0 counts of 4-gram overlaps.\n",
      "Therefore the BLEU score evaluates to 0, independently of\n",
      "how many N-gram overlaps of lower order it contains.\n",
      "Consider using lower n-gram order or use SmoothingFunction()\n",
      "  warnings.warn(_msg)\n",
      "/opt/conda/lib/python3.6/site-packages/nltk/translate/bleu_score.py:523: UserWarning: \n",
      "The hypothesis contains 0 counts of 2-gram overlaps.\n",
      "Therefore the BLEU score evaluates to 0, independently of\n",
      "how many N-gram overlaps of lower order it contains.\n",
      "Consider using lower n-gram order or use SmoothingFunction()\n",
      "  warnings.warn(_msg)\n"
     ]
    },
    {
     "name": "stdout",
     "output_type": "stream",
     "text": [
      "\n",
      "name BLEU-1 score: 0.20749264716588037\n"
     ]
    },
    {
     "data": {
      "application/vnd.jupyter.widget-view+json": {
       "model_id": "3200b01d4d274fa9a8657452e3df5bcb",
       "version_major": 2,
       "version_minor": 0
      },
      "text/plain": [
       "HBox(children=(FloatProgress(value=0.0, max=330.0), HTML(value='')))"
      ]
     },
     "metadata": {},
     "output_type": "display_data"
    },
    {
     "name": "stdout",
     "output_type": "stream",
     "text": [
      "\n",
      "name BLEU-1 score: 0.20274598765995738\n"
     ]
    }
   ],
   "source": [
    "num_epochs = 1\n",
    "\n",
    "print(\"Start training\")\n",
    "\n",
    "for epoch in range(num_epochs):\n",
    "    print(\"\\nEpoch\", epoch+1, \"/\", num_epochs, \":\\n\")\n",
    "    \n",
    "    train_c_loss, train_o_loss = train_one_epoch(train_dataloader, batch_size, encoder, decoder, classes_loss, outputs_loss, optimizer, train=True)\n",
    "    y_true, y_pred = get_class_predictions(encoder, train_dataset)\n",
    "    recall, precision, AP, train_mAP = evaluate_encoder_predictions(y_true, y_pred)\n",
    "    print(\"train_loss - \", round(train_c_loss,3),round(train_o_loss,3), \"- perplexity -\", round(np.exp(train_o_loss),3), \"- MAP -\", round(train_mAP, 3))  \n",
    "    \n",
    "    valid_c_loss, valid_o_loss = train_one_epoch(valid_dataloader, batch_size, encoder, decoder, classes_loss, outputs_loss, optimizer, train=False)\n",
    "    y_true, y_pred = get_class_predictions(encoder, valid_dataset)\n",
    "    recall, precision, AP, valid_mAP = evaluate_encoder_predictions(y_true, y_pred)\n",
    "    print(\"- valid_loss - \", round(valid_c_loss,3),round(valid_o_loss,3), \"- perplexity -\", round(np.exp(valid_o_loss),3), \"- MAP -\", round(valid_mAP, 3))\n",
    "    \n",
    "    for name, dataloader in zip([\"train\", \"valid\"],[train_dataloader,valid_dataloader]):\n",
    "        encoder.eval()\n",
    "        decoder.eval()\n",
    "        running_bleu = 0.0\n",
    "        dataset_len = len(dataloader.dataset)\n",
    "        with torch.set_grad_enabled(False):\n",
    "            for index in trange(0, dataset_len):\n",
    "                image, problems, impression = dataloader.dataset.__getitem__(index)\n",
    "                image_tensor = image.unsqueeze(0).cuda()\n",
    "                logits, feature = encoder(image_tensor)\n",
    "                sampled_ids = decoder.sample(feature)\n",
    "                sampled_ids = list(sampled_ids[0].cpu().numpy())\n",
    "                original = train_dataset.tokenizer.decode(impression).split(\"<\")[0][2:]\n",
    "                generated = train_dataset.tokenizer.decode(sampled_ids).split(\"<\")[0][2:]\n",
    "                reference = [original.split(\" \")]\n",
    "                candidate = generated.split(\" \")\n",
    "                bleu_score = sentence_bleu(reference, candidate, weights=(1, 0, 0, 0))\n",
    "                running_bleu += bleu_score\n",
    "            bleu_score = running_bleu/dataset_len\n",
    "            print(name, \"BLEU-1 score:\", bleu_score)"
   ]
  },
  {
   "cell_type": "markdown",
   "metadata": {},
   "source": [
    "### Inference"
   ]
  },
  {
   "cell_type": "code",
   "execution_count": 6,
   "metadata": {},
   "outputs": [
    {
     "data": {
      "text/plain": [
       "DecoderRNN(\n",
       "  (embed): Embedding(54, 128)\n",
       "  (lstm): LSTM(128, 128, num_layers=3, batch_first=True)\n",
       "  (linear): Linear(in_features=128, out_features=54, bias=True)\n",
       "  (dropout): Dropout(p=0.1, inplace=False)\n",
       "  (norm): LayerNorm((128,), eps=1e-06, elementwise_affine=True)\n",
       ")"
      ]
     },
     "execution_count": 6,
     "metadata": {},
     "output_type": "execute_result"
    }
   ],
   "source": [
    "import matplotlib.pyplot as plt\n",
    "from PIL import Image\n",
    "\n",
    "encoder.eval()\n",
    "decoder.eval()"
   ]
  },
  {
   "cell_type": "code",
   "execution_count": 7,
   "metadata": {},
   "outputs": [
    {
     "name": "stderr",
     "output_type": "stream",
     "text": [
      "Clipping input data to the valid range for imshow with RGB data ([0..1] for floats or [0..255] for integers).\n"
     ]
    },
    {
     "data": {
      "image/png": "[encoded data removed]",
      "text/plain": [
       "<Figure size 432x288 with 1 Axes>"
      ]
     },
     "metadata": {
      "needs_background": "light"
     },
     "output_type": "display_data"
    },
    {
     "name": "stdout",
     "output_type": "stream",
     "text": [
      " Original: > 1. round opacity measuring 2 cm in diameter within the posterior mediastinum. recommend further evaluation of this nodule with chest ct with iv contrast. <\n",
      "Generated: > no acute cardiopulmonary acute cardiopulmonary acute cardiopul\n",
      "\n"
     ]
    }
   ],
   "source": [
    "for index in range(0, 1):\n",
    "    image, problems, impression = valid_dataloader.dataset.__getitem__(index)\n",
    "    image_tensor = image.unsqueeze(0).cuda()\n",
    "    logits, feature = encoder(image_tensor)\n",
    "    sampled_ids = decoder.sample(feature)\n",
    "    sampled_ids = list(sampled_ids[0].cpu().numpy())\n",
    "\n",
    "    plt.title(\"Image: \"+str(index))\n",
    "    plt_img = np.moveaxis(image.numpy(), 0, -1)\n",
    "    plt.imshow(plt_img)\n",
    "    plt.show()\n",
    "\n",
    "    print(\" Original:\", train_dataset.tokenizer.decode(impression))\n",
    "    print(\"Generated:\", train_dataset.tokenizer.decode(sampled_ids))\n",
    "    print(\"\")"
   ]
  },
  {
   "cell_type": "code",
   "execution_count": null,
   "metadata": {},
   "outputs": [],
   "source": []
  }
 ],
 "metadata": {
  "kernelspec": {
   "display_name": "Python 3",
   "language": "python",
   "name": "python3"
  },
  "language_info": {
   "codemirror_mode": {
    "name": "ipython",
    "version": 3
   },
   "file_extension": ".py",
   "mimetype": "text/x-python",
   "name": "python",
   "nbconvert_exporter": "python",
   "pygments_lexer": "ipython3",
   "version": "3.6.10"
  }
 },
 "nbformat": 4,
 "nbformat_minor": 4
}
